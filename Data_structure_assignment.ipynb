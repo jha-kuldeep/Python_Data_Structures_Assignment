{
 "cells": [
  {
   "cell_type": "markdown",
   "id": "7ad67d85-462c-499f-b5c2-3b533e058739",
   "metadata": {},
   "source": [
    "# Data Structures Assignment"
   ]
  },
  {
   "cell_type": "markdown",
   "id": "51b8886e-9622-4f6f-9c5a-2a8255dcfa07",
   "metadata": {},
   "source": [
    "## Theoretical Questions"
   ]
  },
  {
   "cell_type": "markdown",
   "id": "000e6aa6-c5c5-4e1d-82cd-1a2729e64c23",
   "metadata": {},
   "source": [
    "### 1. What are data structures, and why are they important ?\n",
    "Data structures in Python are ways to organize and store data in a program so that it can be efficiently accessed, modified, and manipulated. They provide a way to manage large amounts of data, making it possible to perform operations such as sorting, searching, and inserting data which helps in making use of the data to perform a certain task.\n",
    "\n",
    "Data structures are very important in python programming due to a number of reasons as follows:\n",
    "##### Increased efficiency and performace of our program\n",
    "Data structures enable efficient storage, retrieval, and manipulation of data, making it possible to handle large amounts of data. Choosing the right data structure can significantly improve the performance of a program by reducing the time complexity of operations.\n",
    "##### Problem solving\n",
    "Data structures provide a way to model real-world problems and solve them efficiently.\n",
    "##### Code Readability and maintainability\n",
    "Using appropriate data structures can make code more readable and maintainable by providing a clear and concise way to represent data.\n",
    "##### Simplify data manipulation (adding, removing, modifying elements)\n",
    "Using Data Structures make Data manipulation, i.e., adding, removing, modifying elements very easy due to a number of built in functions.\n",
    "##### Optimize searching and sorting operations\n",
    "Data structures make the searching and sorting operations fairly with the help of built in functions. For e.g. The value of any key in a dictionary (which is a data structure) can be looked for easily by calling the dictionary name followed the key enclosed in curly braces.\n",
    "##### Conserving memory usage\n",
    "Data structures reduce memory usage by storing elements contiguously in the memory.\n",
    "\n",
    "### 2. Explain the difference between mutable and immutable data types with examples?\n",
    "Data types can be classified into two categories: mutable and immutable.\n",
    "\n",
    "##### Mutable Data Types\n",
    "Mutable data types are those that can be modified after they are created. Examples of mutable data types include list, dictionaries and sets.\n",
    "\n",
    "##### Immutable Data Types\n",
    "Immutable data types are those that cannot be modified after they are created. Examples of immutable data types include integer, float, strings, tuples and frozen sets.\n",
    "\n",
    "Follwing are some key differences between mutable and immutable data types:\n",
    "- Modifiability: \n",
    "Mutable data types can be modified after creation, while immutable data types cannot.\n",
    "- Memory Allocation: \n",
    "Mutable data types typically require more memory allocation and deallocation, while immutable data types do not.\n",
    "- Thread Safety: \n",
    "Immutable data types are generally thread-safe in comparison to mutable data types.\n",
    "\n",
    "### 3. What are the main differences between lists and tuples in Python ?\n",
    "Lists and tuples are both data structures in Python that can store multiple values. However, there are key differences between them:\n",
    "\n",
    "##### Mutability\n",
    "- Lists: Lists are mutable, meaning they can be modified after creation.\n",
    "- Tuples: Tuples are immutable, meaning they cannot be modified after creation.\n",
    "-\n",
    "##### Syntax\n",
    "- Lists: Lists are defined using square brackets [] and elements are separated by commas.\n",
    "- Tuples: Tuples are defined using parentheses () and elements are separated by commas.\n",
    "\n",
    "##### Use Cases\n",
    "- Lists: Lists are suitable for situations where data needs to be modified frequently.\n",
    "- Tuples: Tuples are suitable for situations where data is constant and doesn't need to be changed.\n",
    "\n",
    "##### Performance\n",
    "- Lists: Lists are slower than tuples because they require more memory allocation and deallocation.\n",
    "- Tuples: Tuples are faster than lists because they are immutable and require less memory allocation.\n",
    "\n",
    "##### Methods\n",
    "- Lists: Lists have more methods than tuples, such as append(), insert(), remove(), and sort().\n",
    "- Tuples: Tuples have fewer methods than lists, but they do support indexing and slicing.\n",
    "\n",
    "### 4. Describe how dictionaries store data.\n",
    "In python, Dictionaries store data in the form of key-value pairs. In other words, a dictionary is a collection of key value pairs where value of any pair can be accessed through it's key. The way a dictionary stores the data can be understood as follows:\n",
    "\n",
    "##### Unordered Collection:\n",
    "Dictionaries are unordered collection of key-value pairs where elements are not stored in a specific order. Indexing and slicing methods are not supported in dictionaries.\n",
    "\n",
    "##### Unique Key-Value Pair:\n",
    "Each key in a dictionary is a unique identifier to fetch a unique value associated with it. \n",
    "\n",
    "##### Flexible Data:\n",
    "Keys and values can be of various data types ranging from integer, floats, bools, strings, lists, tuples, sets or even  dictionaries.\n",
    "\n",
    "### 5. Why might you use a set instead of a list in Python ?\n",
    "We might use a set instead of a list in Python for several reasons as follows:\n",
    "\n",
    "##### Uniqueness of Elements\n",
    "- Sets automatically eliminate duplicates, ensuring that all elements are unique.\n",
    "- Lists, on the other hand, can contain duplicate elements.\n",
    "\n",
    "##### Efficient Set Operations\n",
    "- Sets support efficient set operations, such as union, intersection, and difference.\n",
    "- Lists do not have built-in support for these operations.\n",
    "\n",
    "##### When Order of Elements do not matter\n",
    "- Sets are unordered collection of elements and can be used efficiently where ordering of elements is not concerned.\n",
    "- Lists are ordered collection of elements and the indexing in the list leads to more memory allocation which further results in a bit slower operations.\n",
    "\n",
    "### 6. What is a string in Python, and how is it different from a list ?\n",
    "In Python, a string is a sequence of characters, such as letters, numbers, or symbols, that are enclosed in quotes.\n",
    "\n",
    "##### Differences between Strings and Lists:\n",
    "###### Immutability: \n",
    "Strings are immutable, while lists are mutable.\n",
    "###### Data Type: \n",
    "Strings are a sequence of characters, while lists can contain any type of data, including strings, integers, floats, and other lists.\n",
    "###### Indexing and Slicing: \n",
    "Both strings and lists support indexing and slicing, but strings are immutable, so we can't assign a new value to a character in a string using indexing.\n",
    "###### Methods: \n",
    "Strings and lists have different methods, reflecting their different use cases.\n",
    "\n",
    "##### Use Cases of Strings:\n",
    "###### Text Data:\n",
    "We use strings when working with text data, such as words, sentences, or paragraphs.\n",
    "###### Character Sequences: \n",
    "We use strings when we need to work with sequences of characters.\n",
    "\n",
    "##### Use Cases of Lists:\n",
    "###### Mutable Data: \n",
    "We use lists when we need to store mutable data that can be changed after creation.\n",
    "###### Heterogeneous Data: \n",
    "We use lists when we need to store data of different types, such as strings, integers, and floats.\n",
    "\n",
    "### 7. How do tuples ensure data integrity in Python?\n",
    "Tuples in Python ensure data integrity in several ways:\n",
    "\n",
    "##### Immutability\n",
    "- Tuples are immutable, meaning their contents cannot be modified after creation.\n",
    "- This ensures that once a tuple is created, its data remains consistent and unchanged.\n",
    "\n",
    "##### Data Protection\n",
    "- Tuples protect data from accidental or intentional modification.\n",
    "- By using tuples, we can ensure that critical data remains unchanged throughout the program's execution.\n",
    "\n",
    "##### Code Reliability\n",
    "- Tuples improve code reliability by preventing unintended changes to data.\n",
    "- With tuples, we can write more predictable and maintainable code.\n",
    "\n",
    "### 8. What is a hash table, and how does it relate to dictionaries in Python ?\n",
    "A hash table in Python is a data structure that stores key-value pairs in an array using a hash function to map keys to indices of the array.\n",
    "\n",
    "In Python, dictionaries are implemented as hash tables. When we create a dictionary, Python uses a hash function to map keys to indices of an array, allowing for fast lookups, insertions, and deletions.\n",
    "\n",
    "##### Benefits of Hash Table\n",
    "- Fast Lookups: Hash tables provide fast lookups, with an average time complexity of O(1).\n",
    "- Efficient Insertions and Deletions: Hash tables allow for efficient insertions and deletions, with an average time complexity of O(1).\n",
    "- Good Cache Performance: Hash tables can exhibit good cache performance, especially when the hash function is well-designed.\n",
    "\n",
    "### 9. Can lists contain different data types in Python ?\n",
    "Yes, In python lists can contain different data types such as string, integer, float, bool, None, complex numbers etc. and even data structures such as lists, dictionaries, sets and tuples. \n",
    "An example of a list containing different data types is:\n",
    "my_list = ['potato', {'name': 'Kuldeep'}, 1.2, True, {1, 2, 3, 4, 7}, (9, 6, 5)]\n",
    "\n",
    "### 10. Explain why strings are immutable in Python ?\n",
    "Strings are immutable in Python for several reasons:\n",
    "\n",
    "##### Security\n",
    "- Strings prevent malicious code from modifying string data, which can help prevent security vulnerabilities.\n",
    "- By ensuring that strings cannot be changed, Python can provide a more secure environment for string manipulation.\n",
    "\n",
    "##### Hashability\n",
    "- Immutable strings can be used as keys in dictionaries, which requires that the keys be hashable.\n",
    "- If strings were mutable, their hash value could change after they were added to a dictionary, which would break the dictionary's functionality.\n",
    "\n",
    "### 11. What advantages do dictionaries offer over lists for certain tasks ?\n",
    "Dictionaries offer several advantages over lists for certain tasks:\n",
    "\n",
    "##### Key-Value Pairs\n",
    "- Dictionaries store data as key-value pairs, allowing for efficient and intuitive data retrieval.\n",
    "- Lists store data as a sequence of elements, which can make it harder to retrieve specific data.\n",
    "\n",
    "##### Data Organization\n",
    "- Dictionaries provide a natural way to organize data into key-value pairs, making it easier to work with complex data.\n",
    "- Lists can become cumbersome when working with complex data, especially when trying to retrieve specific data associated with a certain key.\n",
    "\n",
    "### 12. Describe a scenario where using a tuple would be preferable over a list.\n",
    "Here's a scenario where using a tuple would be preferable over a list:\n",
    "\n",
    "##### Scenario: Representing a Day of the Week\n",
    "Let us assume we're writing a program that needs to represent the days of the week (e.g., Monday to Sunday). In this case, a tuple can be used to store the days in a fixed and immutable way.\n",
    "\n",
    "In this scenario, using a tuple is suitable because the days of the week are fixed and don't need to be changed. The tuple provides a simple and efficient way to store and access the days. Due to it's immutable nature, the risks of accidental changes in the data is also obviated.\n",
    "\n",
    "Therefore, using a tuple instead of a list in this case would be more preferable. \n",
    "\n",
    "### 13. How do sets handle duplicate values in Python?\n",
    "Sets in Python handle duplicate values by automatically removing them. When we try to add a duplicate value to a set, Python will ignore the duplicate and keep only one instance of the value.\n",
    "\n",
    "### 14. How does the “in” keyword work differently for lists and dictionaries?\n",
    "The in keyword in Python works differently for lists and dictionaries:\n",
    "\n",
    "##### Lists\n",
    "- The in keyword checks if a value is present in the list.\n",
    "- It searches through the list elements one by one until it finds a match or reaches the end of the list.\n",
    "\n",
    "##### Dictionaries\n",
    "- The in keyword checks if a key is present in the dictionary.\n",
    "- Let's say we have have a dictionary named my_dict which contain one key-value pair \"name\" - \"Kuldeep\". In order to check if the value \"Kuldeep\" is present in the dictionary, we need to write \"print('kuldeep' in my_dict.values()). The code will return \"True\" since the value is present in the dictionary.\n",
    "\n",
    "### 15. Can you modify the elements of a tuple? Explain why or why not.\n",
    "No, we can not modify the elements of a tuple. Tuples are immutable data structures which means they can not be modified once defined. Any attempt to modify an element in the tuple will throw an error showing \"TypeError: 'tuple' object does not support item assignment\".\n",
    "\n",
    "### 16. What is a nested dictionary, and give an example of its use case?\n",
    "A nested dictionary is a dictionary that contains another dictionary as its value. This allows for complex data structures and hierarchical organization of data.\n",
    "\n",
    "##### Use Cases\n",
    "- Complex Data Structures: Nested dictionaries are useful when working with complex data structures that require hierarchical organization.\n",
    "- Data Representation: Nested dictionaries can be used to represent real-world data, such as a person's info where the person can be the key and all its info is wrapped up in a dictionary as value to the key.\n",
    "\n",
    "### 17. Describe the time complexity of accessing elements in a dictionary?\n",
    "In python, The time complexity of accessing elements in a dictionary is typically O(1), making it very efficient for lookups. The average time complexity of accessing elements in a dictionary is O(1), making it suitable for large datasets.\n",
    "The operation takes the same amount of time regardless of the size of the input. O(1) operations typically do not involve loops that iterate over the input and often involve direct access to a specific element or location.\n",
    "\n",
    "### 18. In what situations are lists preferred over dictionaries?\n",
    "Lists are preferred over dictionaries in the following situations:\n",
    "\n",
    "##### Association of a value to a certain key is not needed\n",
    "- When we do not need to associate and pair two elements with each other and want to store data as separate independent elements, using a list is more suitable.\n",
    "\n",
    "##### Ordered Data\n",
    "- When the order of elements matters, lists are a better choice because they maintain the order of elements.\n",
    "\n",
    "##### Index-Based Access\n",
    "- When we need to access elements by their index, lists are more suitable.\n",
    "\n",
    "##### Frequent Insertion/Deletion at the End\n",
    "- When we need to frequently insert or delete elements at the end of the collection, lists are more efficient.\n",
    "\n",
    "### 19. Why are dictionaries considered unordered, and how does that affect data retrieval?\n",
    "Dictionaries in Python are considered unordered because they do not maintain the insertion order of elements prior to Python 3.7. However, from Python 3.7 onwards, dictionaries maintain the insertion order.\n",
    "\n",
    "Dictionaries are unordered due to following reasons:\n",
    "- Hash Table Implementation: Dictionaries were implemented as hash tables, which are inherently unordered data structures.\n",
    "- Efficient Lookups: The primary goal of dictionaries was to provide fast lookups, insertions, and deletions, rather than maintaining a specific order.\n",
    "\n",
    "##### Impact on Data Retrieval\n",
    "- No Index-Based Access: Dictionaries do not support index-based access like lists, so we can't access elements by their position.\n",
    "- Using Keys for Access: We need to use keys to access values in a dictionary, rather than relying on a specific order.\n",
    "- Iteration Over Keys or Values: When iterating over a dictionary, we can iterate over keys, values, or both, but the order may not be what we expect.\n",
    "\n",
    "### 20. Explain the difference between a list and a dictionary in terms of data retrieval.\n",
    "The main difference between a list and a dictionary in terms of data retrieval is how we access the data:\n",
    "\n",
    "###### Lists\n",
    "- Index-Based Access: We access elements in a list by their index (position in the list).\n",
    "- Ordered: Lists maintain the order of elements, and you can access elements in a specific order.\n",
    "\n",
    "##### Dictionaries\n",
    "- Key-Based Access: We access values in a dictionary by their key.\n",
    "- Unordered: Dictionaries do not maintain a specific order (prior to Python 3.7)"
   ]
  },
  {
   "cell_type": "markdown",
   "id": "95ef3600-7757-489c-987d-3f2c0a425e4a",
   "metadata": {},
   "source": [
    "## Practical Questions"
   ]
  },
  {
   "cell_type": "code",
   "execution_count": 7,
   "id": "d25493aa-dbef-46a3-98d6-671651fa45ac",
   "metadata": {},
   "outputs": [
    {
     "name": "stdout",
     "output_type": "stream",
     "text": [
      "Kuldeep\n"
     ]
    }
   ],
   "source": [
    "# 1. Write a code to create a string with your name and print it.\n",
    "# Solution\n",
    "name = \"Kuldeep\"\n",
    "print(name)"
   ]
  },
  {
   "cell_type": "code",
   "execution_count": 8,
   "id": "945bb3c7-b454-4cc8-8375-f6e7e8004d6f",
   "metadata": {},
   "outputs": [
    {
     "name": "stdout",
     "output_type": "stream",
     "text": [
      "11\n"
     ]
    }
   ],
   "source": [
    "# 2. Write a code to find the length of the string \"Hello World\".\n",
    "# Solution\n",
    "print(len('Hello World'))\n",
    "\n",
    "# or\n",
    "# str1 = \"Hello World\"\n",
    "# print(len(str1))"
   ]
  },
  {
   "cell_type": "code",
   "execution_count": 9,
   "id": "57be893e-a04f-4d73-897b-312ac371ba7e",
   "metadata": {},
   "outputs": [
    {
     "name": "stdout",
     "output_type": "stream",
     "text": [
      "Pyt\n"
     ]
    }
   ],
   "source": [
    "# 3. Write a code to slice the first 3 characters from the string \"Python Programming\".\n",
    "# Solution\n",
    "str1 = 'Python Programming'\n",
    "sliced_text = str1[:3]\n",
    "print(sliced_text)"
   ]
  },
  {
   "cell_type": "code",
   "execution_count": 10,
   "id": "c4906f57-67f0-4fc4-ab49-c4fbedad192c",
   "metadata": {},
   "outputs": [
    {
     "name": "stdout",
     "output_type": "stream",
     "text": [
      "HELLO\n"
     ]
    }
   ],
   "source": [
    "# 4. Write a code to convert the string \"hello\" to uppercase.\n",
    "# Solution\n",
    "str2 = 'Hello'\n",
    "converted_string = str2.upper()\n",
    "print(converted_string)"
   ]
  },
  {
   "cell_type": "code",
   "execution_count": 11,
   "id": "dbbd8b92-9eb9-4b75-8f81-0399e5029675",
   "metadata": {},
   "outputs": [
    {
     "name": "stdout",
     "output_type": "stream",
     "text": [
      "I like orange\n"
     ]
    }
   ],
   "source": [
    "# 5. Write a code to replace the word \"apple\" with \"orange\" in the string \"I like apple\".\n",
    "# Solution\n",
    "str3 = 'I like apple'\n",
    "str3 = str3.replace('apple', 'orange')\n",
    "print(str3)"
   ]
  },
  {
   "cell_type": "code",
   "execution_count": 18,
   "id": "d697f5eb-0973-45a7-8ce7-b1894d1701fd",
   "metadata": {},
   "outputs": [
    {
     "name": "stdout",
     "output_type": "stream",
     "text": [
      "[1, 2, 3, 4, 5]\n"
     ]
    }
   ],
   "source": [
    "# 6. Write a code to create a list with numbers 1 to 5 and print it.\n",
    "# Solution\n",
    "# List comprehension method\n",
    "num_list = [i for i in range(1, 6)]\n",
    "print(num_list)\n",
    "\n",
    "# Normal Method                    # I have commented out this method so the code does not run twice.\n",
    "# num_list = [1, 2, 3, 4, 5]\n",
    "# print(num_list)"
   ]
  },
  {
   "cell_type": "code",
   "execution_count": 19,
   "id": "719dfb2f-586c-4deb-948c-5cf64a0ea82a",
   "metadata": {},
   "outputs": [
    {
     "name": "stdout",
     "output_type": "stream",
     "text": [
      "[1, 2, 3, 4, 10]\n"
     ]
    }
   ],
   "source": [
    "# 7. Write a code to append the number 10 to the list [1, 2, 3, 4].\n",
    "# Solution\n",
    "num_list1 = [1, 2, 3, 4]\n",
    "num_list1.append(10)\n",
    "print(num_list1)"
   ]
  },
  {
   "cell_type": "code",
   "execution_count": 30,
   "id": "34a11661-d441-4262-9944-d1eef8ffda9c",
   "metadata": {},
   "outputs": [
    {
     "name": "stdout",
     "output_type": "stream",
     "text": [
      "[1, 2, 4, 5]\n"
     ]
    }
   ],
   "source": [
    "# 8. Write a code to remove the number 3 from the list [1, 2, 3, 4, 5].\n",
    "# Solution\n",
    "list_1 = [1, 2, 3, 4, 5]\n",
    "\n",
    "# Using remove method\n",
    "list_1.remove(3)\n",
    "print(list_1)\n",
    "\n",
    "# Using del statement\n",
    "# del list_1[2]\n",
    "# print(list_1)\n",
    "\n",
    "# Using pop method\n",
    "# list_1.pop(2)\n",
    "# print(list_1)     # I have only kept first method as functional piece of code and commented out the rest methods."
   ]
  },
  {
   "cell_type": "code",
   "execution_count": 31,
   "id": "039b1e7b-7c76-486d-b9bb-8b5a37a6cd2b",
   "metadata": {},
   "outputs": [
    {
     "name": "stdout",
     "output_type": "stream",
     "text": [
      "b\n"
     ]
    }
   ],
   "source": [
    "# 9. Write a code to access the second element in the list ['a', 'b', 'c', 'd']\n",
    "# Solution\n",
    "list_2 = ['a', 'b', 'c', 'd']\n",
    "print(list_2[1])"
   ]
  },
  {
   "cell_type": "code",
   "execution_count": 35,
   "id": "6797510e-da90-474c-a0e4-159a53843de1",
   "metadata": {},
   "outputs": [
    {
     "name": "stdout",
     "output_type": "stream",
     "text": [
      "[50, 40, 30, 20, 10]\n"
     ]
    }
   ],
   "source": [
    "# 10. Write a code to reverse the list [10, 20, 30, 40, 50].\n",
    "# Solution\n",
    "\n",
    "# Without changing the order of the original list.\n",
    "list_3 = [10, 20, 30, 40, 50]\n",
    "rev_list_3 = sorted(list_3, reverse=True)\n",
    "print(rev_list_3)\n",
    "\n",
    "# Changing the original list.\n",
    "# list_3 = [10, 20, 30, 40, 50]\n",
    "# list_3.sort(reverse=True)\n",
    "# print(list_3)"
   ]
  },
  {
   "cell_type": "code",
   "execution_count": null,
   "id": "4025c0af-ccc1-479d-a77f-eaf6b4fc8241",
   "metadata": {},
   "outputs": [],
   "source": []
  }
 ],
 "metadata": {
  "kernelspec": {
   "display_name": "Python 3 (ipykernel)",
   "language": "python",
   "name": "python3"
  },
  "language_info": {
   "codemirror_mode": {
    "name": "ipython",
    "version": 3
   },
   "file_extension": ".py",
   "mimetype": "text/x-python",
   "name": "python",
   "nbconvert_exporter": "python",
   "pygments_lexer": "ipython3",
   "version": "3.13.2"
  }
 },
 "nbformat": 4,
 "nbformat_minor": 5
}
